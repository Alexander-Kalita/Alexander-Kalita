{
 "cells": [
  {
   "cell_type": "markdown",
   "id": "025a9f9b",
   "metadata": {
    "papermill": {
     "duration": 0.005326,
     "end_time": "2022-11-22T13:35:31.770983",
     "exception": false,
     "start_time": "2022-11-22T13:35:31.765657",
     "status": "completed"
    },
    "tags": []
   },
   "source": [
    "---\n",
    "# **Bellabeat Case Study: How Can a Wellness Technology Company Play It Smart?**\n",
    "Alexander Kalita\n",
    "---\n",
    "\n",
    "# **Introduction**\n",
    "\n",
    "Bellabeat is a small, high-tech manufacturer that focuses on wellness products designed specifically for women's health. Since 2013 the company experienced a rapid growth and aims to expand in the global smart device market. The company offers an ecosystem of diverse products that are tied to the Bellabeat app in order to understand how can users make more informed health decisions in their daily lives. Urška Sršen, the cofounder and Chief Creative Officer of the company, mentions the importance of analyzing Bellabeat smart device fitness data to guide marketing strategy and seize further growth opportunities.\n",
    "\n",
    "The current research aims to analyze the provided dataset and give some recommendations on the key trends for the Bellabeat management team. Therefore, the following research questions could be stated:\n",
    "\n",
    "• What are some trends in smart device usage?\n",
    "\n",
    "• How could these trends apply to Bellabeat customers?\n",
    "\n",
    "• How could these trends help influence Bellabeat marketing strategy?\n",
    "\n",
    "# **Data source and data cleaning**\n",
    "\n",
    "This section is divided into two parts. At first, the data source is briefly outlined and then detailed data processing is presented.\n",
    "\n",
    "## **Data Source**\n",
    "\n",
    "The data used in this study is publicly available through Kaggle platform: FitBit Fitness Tracker Data. It was collected by Amazon Mechanical Turk between 03.12.2016-05.12.2016. This dataset consists of information about 30 users devoted to physical activity, sleeping patterns and heart rate. The data has some limitations: the data was collected in a single period of time, the sample is quite small (n=30) and it is not representative of the whole fitness tracker population. Despite its limitations, the data can be used to make a preliminary analysis of the smart device usage trends and its application to Bellabeat customers and marketing strategy.\n",
    "\n",
    "## **Processing data**\n",
    "\n",
    "With previously installed packages, the following libraries are loaded in RStudio:"
   ]
  },
  {
   "cell_type": "code",
   "execution_count": 1,
   "id": "9a38a75f",
   "metadata": {
    "execution": {
     "iopub.execute_input": "2022-11-22T13:35:31.783480Z",
     "iopub.status.busy": "2022-11-22T13:35:31.781759Z",
     "iopub.status.idle": "2022-11-22T13:35:33.378545Z",
     "shell.execute_reply": "2022-11-22T13:35:33.375716Z"
    },
    "papermill": {
     "duration": 1.606333,
     "end_time": "2022-11-22T13:35:33.381682",
     "exception": false,
     "start_time": "2022-11-22T13:35:31.775349",
     "status": "completed"
    },
    "tags": []
   },
   "outputs": [
    {
     "name": "stderr",
     "output_type": "stream",
     "text": [
      "── \u001b[1mAttaching packages\u001b[22m ─────────────────────────────────────── tidyverse 1.3.2 ──\n",
      "\u001b[32m✔\u001b[39m \u001b[34mggplot2\u001b[39m 3.3.6      \u001b[32m✔\u001b[39m \u001b[34mpurrr  \u001b[39m 0.3.5 \n",
      "\u001b[32m✔\u001b[39m \u001b[34mtibble \u001b[39m 3.1.8      \u001b[32m✔\u001b[39m \u001b[34mdplyr  \u001b[39m 1.0.10\n",
      "\u001b[32m✔\u001b[39m \u001b[34mtidyr  \u001b[39m 1.2.1      \u001b[32m✔\u001b[39m \u001b[34mstringr\u001b[39m 1.4.1 \n",
      "\u001b[32m✔\u001b[39m \u001b[34mreadr  \u001b[39m 2.1.3      \u001b[32m✔\u001b[39m \u001b[34mforcats\u001b[39m 0.5.2 \n",
      "── \u001b[1mConflicts\u001b[22m ────────────────────────────────────────── tidyverse_conflicts() ──\n",
      "\u001b[31m✖\u001b[39m \u001b[34mdplyr\u001b[39m::\u001b[32mfilter()\u001b[39m masks \u001b[34mstats\u001b[39m::filter()\n",
      "\u001b[31m✖\u001b[39m \u001b[34mdplyr\u001b[39m::\u001b[32mlag()\u001b[39m    masks \u001b[34mstats\u001b[39m::lag()\n",
      "\n",
      "Attaching package: ‘lubridate’\n",
      "\n",
      "\n",
      "The following objects are masked from ‘package:base’:\n",
      "\n",
      "    date, intersect, setdiff, union\n",
      "\n",
      "\n",
      "\n",
      "Attaching package: ‘janitor’\n",
      "\n",
      "\n",
      "The following objects are masked from ‘package:stats’:\n",
      "\n",
      "    chisq.test, fisher.test\n",
      "\n",
      "\n"
     ]
    }
   ],
   "source": [
    "# Loading libraries\n",
    "library(tidyverse)\n",
    "library(lubridate)\n",
    "library(dplyr)\n",
    "library(ggplot2)\n",
    "library(tidyr)\n",
    "library(skimr)\n",
    "library(janitor)"
   ]
  },
  {
   "cell_type": "markdown",
   "id": "3f94f1de",
   "metadata": {
    "_cell_guid": "8e7c7681-fd25-4706-99a7-6bef4b46c62f",
    "_uuid": "282afa79-7c08-4c42-91af-2db4bad102fd",
    "jupyter": {
     "outputs_hidden": false
    },
    "papermill": {
     "duration": 0.004912,
     "end_time": "2022-11-22T13:35:33.391874",
     "exception": false,
     "start_time": "2022-11-22T13:35:33.386962",
     "status": "completed"
    },
    "tags": []
   },
   "source": [
    "After preliminary analysis, the research focuses on three datasets by reading them as CSV files:"
   ]
  },
  {
   "cell_type": "code",
   "execution_count": 2,
   "id": "6f1b455e",
   "metadata": {
    "execution": {
     "iopub.execute_input": "2022-11-22T13:35:33.429477Z",
     "iopub.status.busy": "2022-11-22T13:35:33.403221Z",
     "iopub.status.idle": "2022-11-22T13:35:33.518480Z",
     "shell.execute_reply": "2022-11-22T13:35:33.516857Z"
    },
    "papermill": {
     "duration": 0.123796,
     "end_time": "2022-11-22T13:35:33.520405",
     "exception": false,
     "start_time": "2022-11-22T13:35:33.396609",
     "status": "completed"
    },
    "tags": []
   },
   "outputs": [],
   "source": [
    "# Reading CSV files\n",
    "daily_activity <- read.csv(file=\"/kaggle/input/fitbit/Fitabase Data 4.12.16-5.12.16/dailyActivity_merged.csv\")\n",
    "hourly_steps <- read.csv(file=\"/kaggle/input/fitbit/Fitabase Data 4.12.16-5.12.16/hourlySteps_merged.csv\")\n",
    "daily_sleep <- read.csv(file=\"/kaggle/input/fitbit/Fitabase Data 4.12.16-5.12.16/sleepDay_merged.csv\")"
   ]
  },
  {
   "cell_type": "markdown",
   "id": "e57e05b8",
   "metadata": {
    "papermill": {
     "duration": 0.005087,
     "end_time": "2022-11-22T13:35:33.530444",
     "exception": false,
     "start_time": "2022-11-22T13:35:33.525357",
     "status": "completed"
    },
    "tags": []
   },
   "source": [
    "The used str() function provided some information about the internal data structure. This data was doublechecked in Google sheets."
   ]
  },
  {
   "cell_type": "code",
   "execution_count": 3,
   "id": "36fb69a2",
   "metadata": {
    "execution": {
     "iopub.execute_input": "2022-11-22T13:35:33.543232Z",
     "iopub.status.busy": "2022-11-22T13:35:33.541981Z",
     "iopub.status.idle": "2022-11-22T13:35:33.593326Z",
     "shell.execute_reply": "2022-11-22T13:35:33.591711Z"
    },
    "papermill": {
     "duration": 0.060615,
     "end_time": "2022-11-22T13:35:33.595949",
     "exception": false,
     "start_time": "2022-11-22T13:35:33.535334",
     "status": "completed"
    },
    "tags": []
   },
   "outputs": [
    {
     "name": "stdout",
     "output_type": "stream",
     "text": [
      "'data.frame':\t940 obs. of  15 variables:\n",
      " $ Id                      : num  1.5e+09 1.5e+09 1.5e+09 1.5e+09 1.5e+09 ...\n",
      " $ ActivityDate            : chr  \"4/12/2016\" \"4/13/2016\" \"4/14/2016\" \"4/15/2016\" ...\n",
      " $ TotalSteps              : int  13162 10735 10460 9762 12669 9705 13019 15506 10544 9819 ...\n",
      " $ TotalDistance           : num  8.5 6.97 6.74 6.28 8.16 ...\n",
      " $ TrackerDistance         : num  8.5 6.97 6.74 6.28 8.16 ...\n",
      " $ LoggedActivitiesDistance: num  0 0 0 0 0 0 0 0 0 0 ...\n",
      " $ VeryActiveDistance      : num  1.88 1.57 2.44 2.14 2.71 ...\n",
      " $ ModeratelyActiveDistance: num  0.55 0.69 0.4 1.26 0.41 ...\n",
      " $ LightActiveDistance     : num  6.06 4.71 3.91 2.83 5.04 ...\n",
      " $ SedentaryActiveDistance : num  0 0 0 0 0 0 0 0 0 0 ...\n",
      " $ VeryActiveMinutes       : int  25 21 30 29 36 38 42 50 28 19 ...\n",
      " $ FairlyActiveMinutes     : int  13 19 11 34 10 20 16 31 12 8 ...\n",
      " $ LightlyActiveMinutes    : int  328 217 181 209 221 164 233 264 205 211 ...\n",
      " $ SedentaryMinutes        : int  728 776 1218 726 773 539 1149 775 818 838 ...\n",
      " $ Calories                : int  1985 1797 1776 1745 1863 1728 1921 2035 1786 1775 ...\n",
      "'data.frame':\t413 obs. of  5 variables:\n",
      " $ Id                : num  1.5e+09 1.5e+09 1.5e+09 1.5e+09 1.5e+09 ...\n",
      " $ SleepDay          : chr  \"4/12/2016 12:00:00 AM\" \"4/13/2016 12:00:00 AM\" \"4/15/2016 12:00:00 AM\" \"4/16/2016 12:00:00 AM\" ...\n",
      " $ TotalSleepRecords : int  1 2 1 2 1 1 1 1 1 1 ...\n",
      " $ TotalMinutesAsleep: int  327 384 412 340 700 304 360 325 361 430 ...\n",
      " $ TotalTimeInBed    : int  346 407 442 367 712 320 377 364 384 449 ...\n",
      "'data.frame':\t22099 obs. of  3 variables:\n",
      " $ Id          : num  1.5e+09 1.5e+09 1.5e+09 1.5e+09 1.5e+09 ...\n",
      " $ ActivityHour: chr  \"4/12/2016 12:00:00 AM\" \"4/12/2016 1:00:00 AM\" \"4/12/2016 2:00:00 AM\" \"4/12/2016 3:00:00 AM\" ...\n",
      " $ StepTotal   : int  373 160 151 0 0 0 0 0 250 1864 ...\n"
     ]
    }
   ],
   "source": [
    "# Exploring the datasets\n",
    "str(daily_activity)\n",
    "str(daily_sleep)\n",
    "str(hourly_steps)"
   ]
  },
  {
   "cell_type": "markdown",
   "id": "f826447e",
   "metadata": {
    "papermill": {
     "duration": 0.004896,
     "end_time": "2022-11-22T13:35:33.606196",
     "exception": false,
     "start_time": "2022-11-22T13:35:33.601300",
     "status": "completed"
    },
    "tags": []
   },
   "source": [
    "It was important to distinguish unique users in each dataset."
   ]
  },
  {
   "cell_type": "code",
   "execution_count": 4,
   "id": "c19c8686",
   "metadata": {
    "execution": {
     "iopub.execute_input": "2022-11-22T13:35:33.618888Z",
     "iopub.status.busy": "2022-11-22T13:35:33.617625Z",
     "iopub.status.idle": "2022-11-22T13:35:33.643473Z",
     "shell.execute_reply": "2022-11-22T13:35:33.642004Z"
    },
    "papermill": {
     "duration": 0.0347,
     "end_time": "2022-11-22T13:35:33.645654",
     "exception": false,
     "start_time": "2022-11-22T13:35:33.610954",
     "status": "completed"
    },
    "tags": []
   },
   "outputs": [
    {
     "data": {
      "text/html": [
       "33"
      ],
      "text/latex": [
       "33"
      ],
      "text/markdown": [
       "33"
      ],
      "text/plain": [
       "[1] 33"
      ]
     },
     "metadata": {},
     "output_type": "display_data"
    },
    {
     "data": {
      "text/html": [
       "24"
      ],
      "text/latex": [
       "24"
      ],
      "text/markdown": [
       "24"
      ],
      "text/plain": [
       "[1] 24"
      ]
     },
     "metadata": {},
     "output_type": "display_data"
    },
    {
     "data": {
      "text/html": [
       "33"
      ],
      "text/latex": [
       "33"
      ],
      "text/markdown": [
       "33"
      ],
      "text/plain": [
       "[1] 33"
      ]
     },
     "metadata": {},
     "output_type": "display_data"
    }
   ],
   "source": [
    "# Summarizing distinct users\n",
    "n_distinct(daily_activity$Id)\n",
    "n_distinct(daily_sleep$Id) \n",
    "n_distinct(hourly_steps$Id)"
   ]
  },
  {
   "cell_type": "markdown",
   "id": "65bdacd8",
   "metadata": {
    "papermill": {
     "duration": 0.005425,
     "end_time": "2022-11-22T13:35:33.656513",
     "exception": false,
     "start_time": "2022-11-22T13:35:33.651088",
     "status": "completed"
    },
    "tags": []
   },
   "source": [
    "The date format is not consistent throughout the datasets, so the runned code helps to fix this. At first glance, the \"daily_activity\" code did not change much but the initial date format was m/dd/YYYY, not mm/dd/YYYY. It prevents further file merge for analysis."
   ]
  },
  {
   "cell_type": "code",
   "execution_count": 5,
   "id": "162817f0",
   "metadata": {
    "execution": {
     "iopub.execute_input": "2022-11-22T13:35:33.670214Z",
     "iopub.status.busy": "2022-11-22T13:35:33.668972Z",
     "iopub.status.idle": "2022-11-22T13:35:33.712585Z",
     "shell.execute_reply": "2022-11-22T13:35:33.711058Z"
    },
    "papermill": {
     "duration": 0.052341,
     "end_time": "2022-11-22T13:35:33.714392",
     "exception": false,
     "start_time": "2022-11-22T13:35:33.662051",
     "status": "completed"
    },
    "tags": []
   },
   "outputs": [
    {
     "data": {
      "text/html": [
       "<style>\n",
       ".list-inline {list-style: none; margin:0; padding: 0}\n",
       ".list-inline>li {display: inline-block}\n",
       ".list-inline>li:not(:last-child)::after {content: \"\\00b7\"; padding: 0 .5ex}\n",
       "</style>\n",
       "<ol class=list-inline><li>'04/12/2016'</li><li>'04/13/2016'</li><li>'04/14/2016'</li><li>'04/15/2016'</li><li>'04/16/2016'</li><li>'04/17/2016'</li></ol>\n"
      ],
      "text/latex": [
       "\\begin{enumerate*}\n",
       "\\item '04/12/2016'\n",
       "\\item '04/13/2016'\n",
       "\\item '04/14/2016'\n",
       "\\item '04/15/2016'\n",
       "\\item '04/16/2016'\n",
       "\\item '04/17/2016'\n",
       "\\end{enumerate*}\n"
      ],
      "text/markdown": [
       "1. '04/12/2016'\n",
       "2. '04/13/2016'\n",
       "3. '04/14/2016'\n",
       "4. '04/15/2016'\n",
       "5. '04/16/2016'\n",
       "6. '04/17/2016'\n",
       "\n",
       "\n"
      ],
      "text/plain": [
       "[1] \"04/12/2016\" \"04/13/2016\" \"04/14/2016\" \"04/15/2016\" \"04/16/2016\"\n",
       "[6] \"04/17/2016\""
      ]
     },
     "metadata": {},
     "output_type": "display_data"
    },
    {
     "data": {
      "text/html": [
       "<style>\n",
       ".list-inline {list-style: none; margin:0; padding: 0}\n",
       ".list-inline>li {display: inline-block}\n",
       ".list-inline>li:not(:last-child)::after {content: \"\\00b7\"; padding: 0 .5ex}\n",
       "</style>\n",
       "<ol class=list-inline><li>'04/12/2016'</li><li>'04/13/2016'</li><li>'04/15/2016'</li><li>'04/16/2016'</li><li>'04/17/2016'</li><li>'04/19/2016'</li></ol>\n"
      ],
      "text/latex": [
       "\\begin{enumerate*}\n",
       "\\item '04/12/2016'\n",
       "\\item '04/13/2016'\n",
       "\\item '04/15/2016'\n",
       "\\item '04/16/2016'\n",
       "\\item '04/17/2016'\n",
       "\\item '04/19/2016'\n",
       "\\end{enumerate*}\n"
      ],
      "text/markdown": [
       "1. '04/12/2016'\n",
       "2. '04/13/2016'\n",
       "3. '04/15/2016'\n",
       "4. '04/16/2016'\n",
       "5. '04/17/2016'\n",
       "6. '04/19/2016'\n",
       "\n",
       "\n"
      ],
      "text/plain": [
       "[1] \"04/12/2016\" \"04/13/2016\" \"04/15/2016\" \"04/16/2016\" \"04/17/2016\"\n",
       "[6] \"04/19/2016\""
      ]
     },
     "metadata": {},
     "output_type": "display_data"
    },
    {
     "data": {
      "text/plain": [
       "[1] \"2016-04-12 00:00:00 UTC\" \"2016-04-12 01:00:00 UTC\"\n",
       "[3] \"2016-04-12 02:00:00 UTC\" \"2016-04-12 03:00:00 UTC\"\n",
       "[5] \"2016-04-12 04:00:00 UTC\" \"2016-04-12 05:00:00 UTC\""
      ]
     },
     "metadata": {},
     "output_type": "display_data"
    }
   ],
   "source": [
    "# Fixing date consistency\n",
    "daily_activity$ActivityDate <- format(strptime(daily_activity$ActivityDate, \"%m/%d/%Y\"), \"%m/%d/%Y\")\n",
    "head(daily_activity$ActivityDate)\n",
    "\n",
    "daily_sleep$SleepDay <- format(strptime(daily_sleep$SleepDay, \"%m/%d/%Y %I:%M:%S %p\"), \"%m/%d/%Y\")\n",
    "head(daily_sleep$SleepDay)\n",
    "\n",
    "hourly_steps$ActivityHour=as.POSIXct(hourly_steps$ActivityHour, format=\"%m/%d/%Y %I:%M:%S %p\", tz=\"UTC\")\n",
    "head(hourly_steps$ActivityHour)"
   ]
  },
  {
   "cell_type": "markdown",
   "id": "bc29f875",
   "metadata": {
    "papermill": {
     "duration": 0.005972,
     "end_time": "2022-11-22T13:35:33.726703",
     "exception": false,
     "start_time": "2022-11-22T13:35:33.720731",
     "status": "completed"
    },
    "tags": []
   },
   "source": [
    "The date/time columns are renamed in the datasets."
   ]
  },
  {
   "cell_type": "code",
   "execution_count": 6,
   "id": "cc605a4e",
   "metadata": {
    "execution": {
     "iopub.execute_input": "2022-11-22T13:35:33.741880Z",
     "iopub.status.busy": "2022-11-22T13:35:33.740405Z",
     "iopub.status.idle": "2022-11-22T13:35:33.807309Z",
     "shell.execute_reply": "2022-11-22T13:35:33.805923Z"
    },
    "papermill": {
     "duration": 0.076357,
     "end_time": "2022-11-22T13:35:33.809050",
     "exception": false,
     "start_time": "2022-11-22T13:35:33.732693",
     "status": "completed"
    },
    "tags": []
   },
   "outputs": [
    {
     "data": {
      "text/html": [
       "<style>\n",
       ".list-inline {list-style: none; margin:0; padding: 0}\n",
       ".list-inline>li {display: inline-block}\n",
       ".list-inline>li:not(:last-child)::after {content: \"\\00b7\"; padding: 0 .5ex}\n",
       "</style>\n",
       "<ol class=list-inline><li>'Id'</li><li>'date'</li><li>'TotalSteps'</li><li>'TotalDistance'</li><li>'TrackerDistance'</li><li>'LoggedActivitiesDistance'</li><li>'VeryActiveDistance'</li><li>'ModeratelyActiveDistance'</li><li>'LightActiveDistance'</li><li>'SedentaryActiveDistance'</li><li>'VeryActiveMinutes'</li><li>'FairlyActiveMinutes'</li><li>'LightlyActiveMinutes'</li><li>'SedentaryMinutes'</li><li>'Calories'</li></ol>\n"
      ],
      "text/latex": [
       "\\begin{enumerate*}\n",
       "\\item 'Id'\n",
       "\\item 'date'\n",
       "\\item 'TotalSteps'\n",
       "\\item 'TotalDistance'\n",
       "\\item 'TrackerDistance'\n",
       "\\item 'LoggedActivitiesDistance'\n",
       "\\item 'VeryActiveDistance'\n",
       "\\item 'ModeratelyActiveDistance'\n",
       "\\item 'LightActiveDistance'\n",
       "\\item 'SedentaryActiveDistance'\n",
       "\\item 'VeryActiveMinutes'\n",
       "\\item 'FairlyActiveMinutes'\n",
       "\\item 'LightlyActiveMinutes'\n",
       "\\item 'SedentaryMinutes'\n",
       "\\item 'Calories'\n",
       "\\end{enumerate*}\n"
      ],
      "text/markdown": [
       "1. 'Id'\n",
       "2. 'date'\n",
       "3. 'TotalSteps'\n",
       "4. 'TotalDistance'\n",
       "5. 'TrackerDistance'\n",
       "6. 'LoggedActivitiesDistance'\n",
       "7. 'VeryActiveDistance'\n",
       "8. 'ModeratelyActiveDistance'\n",
       "9. 'LightActiveDistance'\n",
       "10. 'SedentaryActiveDistance'\n",
       "11. 'VeryActiveMinutes'\n",
       "12. 'FairlyActiveMinutes'\n",
       "13. 'LightlyActiveMinutes'\n",
       "14. 'SedentaryMinutes'\n",
       "15. 'Calories'\n",
       "\n",
       "\n"
      ],
      "text/plain": [
       " [1] \"Id\"                       \"date\"                    \n",
       " [3] \"TotalSteps\"               \"TotalDistance\"           \n",
       " [5] \"TrackerDistance\"          \"LoggedActivitiesDistance\"\n",
       " [7] \"VeryActiveDistance\"       \"ModeratelyActiveDistance\"\n",
       " [9] \"LightActiveDistance\"      \"SedentaryActiveDistance\" \n",
       "[11] \"VeryActiveMinutes\"        \"FairlyActiveMinutes\"     \n",
       "[13] \"LightlyActiveMinutes\"     \"SedentaryMinutes\"        \n",
       "[15] \"Calories\"                "
      ]
     },
     "metadata": {},
     "output_type": "display_data"
    },
    {
     "data": {
      "text/html": [
       "<style>\n",
       ".list-inline {list-style: none; margin:0; padding: 0}\n",
       ".list-inline>li {display: inline-block}\n",
       ".list-inline>li:not(:last-child)::after {content: \"\\00b7\"; padding: 0 .5ex}\n",
       "</style>\n",
       "<ol class=list-inline><li>'Id'</li><li>'date'</li><li>'TotalSleepRecords'</li><li>'TotalMinutesAsleep'</li><li>'TotalTimeInBed'</li></ol>\n"
      ],
      "text/latex": [
       "\\begin{enumerate*}\n",
       "\\item 'Id'\n",
       "\\item 'date'\n",
       "\\item 'TotalSleepRecords'\n",
       "\\item 'TotalMinutesAsleep'\n",
       "\\item 'TotalTimeInBed'\n",
       "\\end{enumerate*}\n"
      ],
      "text/markdown": [
       "1. 'Id'\n",
       "2. 'date'\n",
       "3. 'TotalSleepRecords'\n",
       "4. 'TotalMinutesAsleep'\n",
       "5. 'TotalTimeInBed'\n",
       "\n",
       "\n"
      ],
      "text/plain": [
       "[1] \"Id\"                 \"date\"               \"TotalSleepRecords\" \n",
       "[4] \"TotalMinutesAsleep\" \"TotalTimeInBed\"    "
      ]
     },
     "metadata": {},
     "output_type": "display_data"
    },
    {
     "data": {
      "text/html": [
       "<style>\n",
       ".list-inline {list-style: none; margin:0; padding: 0}\n",
       ".list-inline>li {display: inline-block}\n",
       ".list-inline>li:not(:last-child)::after {content: \"\\00b7\"; padding: 0 .5ex}\n",
       "</style>\n",
       "<ol class=list-inline><li>'Id'</li><li>'date_time'</li><li>'StepTotal'</li></ol>\n"
      ],
      "text/latex": [
       "\\begin{enumerate*}\n",
       "\\item 'Id'\n",
       "\\item 'date\\_time'\n",
       "\\item 'StepTotal'\n",
       "\\end{enumerate*}\n"
      ],
      "text/markdown": [
       "1. 'Id'\n",
       "2. 'date_time'\n",
       "3. 'StepTotal'\n",
       "\n",
       "\n"
      ],
      "text/plain": [
       "[1] \"Id\"        \"date_time\" \"StepTotal\""
      ]
     },
     "metadata": {},
     "output_type": "display_data"
    }
   ],
   "source": [
    " # Renaming columns\n",
    "daily_activity <- rename (daily_activity, date = ActivityDate)\n",
    "colnames(daily_activity)\n",
    "\n",
    "daily_sleep <- rename (daily_sleep, date = SleepDay)\n",
    "colnames(daily_sleep)\n",
    "\n",
    "hourly_steps <- rename (hourly_steps, date_time = ActivityHour)\n",
    "colnames(hourly_steps)"
   ]
  },
  {
   "cell_type": "markdown",
   "id": "46bef417",
   "metadata": {
    "papermill": {
     "duration": 0.005918,
     "end_time": "2022-11-22T13:35:33.821398",
     "exception": false,
     "start_time": "2022-11-22T13:35:33.815480",
     "status": "completed"
    },
    "tags": []
   },
   "source": [
    "Two files are merged: \"daily_activity\" and \"daily_sleep\" datasets. They will be further used for designing box plots and correlation analysis."
   ]
  },
  {
   "cell_type": "code",
   "execution_count": 7,
   "id": "5dfae52a",
   "metadata": {
    "execution": {
     "iopub.execute_input": "2022-11-22T13:35:33.845203Z",
     "iopub.status.busy": "2022-11-22T13:35:33.843976Z",
     "iopub.status.idle": "2022-11-22T13:35:33.894317Z",
     "shell.execute_reply": "2022-11-22T13:35:33.892929Z"
    },
    "papermill": {
     "duration": 0.068866,
     "end_time": "2022-11-22T13:35:33.896224",
     "exception": false,
     "start_time": "2022-11-22T13:35:33.827358",
     "status": "completed"
    },
    "tags": []
   },
   "outputs": [
    {
     "data": {
      "text/html": [
       "<style>\n",
       ".list-inline {list-style: none; margin:0; padding: 0}\n",
       ".list-inline>li {display: inline-block}\n",
       ".list-inline>li:not(:last-child)::after {content: \"\\00b7\"; padding: 0 .5ex}\n",
       "</style>\n",
       "<ol class=list-inline><li>1503960366</li><li>1503960366</li><li>1503960366</li><li>1503960366</li><li>1503960366</li><li>1503960366</li></ol>\n"
      ],
      "text/latex": [
       "\\begin{enumerate*}\n",
       "\\item 1503960366\n",
       "\\item 1503960366\n",
       "\\item 1503960366\n",
       "\\item 1503960366\n",
       "\\item 1503960366\n",
       "\\item 1503960366\n",
       "\\end{enumerate*}\n"
      ],
      "text/markdown": [
       "1. 1503960366\n",
       "2. 1503960366\n",
       "3. 1503960366\n",
       "4. 1503960366\n",
       "5. 1503960366\n",
       "6. 1503960366\n",
       "\n",
       "\n"
      ],
      "text/plain": [
       "[1] 1503960366 1503960366 1503960366 1503960366 1503960366 1503960366"
      ]
     },
     "metadata": {},
     "output_type": "display_data"
    },
    {
     "data": {
      "text/html": [
       "<style>\n",
       ".list-inline {list-style: none; margin:0; padding: 0}\n",
       ".list-inline>li {display: inline-block}\n",
       ".list-inline>li:not(:last-child)::after {content: \"\\00b7\"; padding: 0 .5ex}\n",
       "</style>\n",
       "<ol class=list-inline><li>'04/12/2016'</li><li>'04/13/2016'</li><li>'04/15/2016'</li><li>'04/16/2016'</li><li>'04/17/2016'</li><li>'04/19/2016'</li></ol>\n"
      ],
      "text/latex": [
       "\\begin{enumerate*}\n",
       "\\item '04/12/2016'\n",
       "\\item '04/13/2016'\n",
       "\\item '04/15/2016'\n",
       "\\item '04/16/2016'\n",
       "\\item '04/17/2016'\n",
       "\\item '04/19/2016'\n",
       "\\end{enumerate*}\n"
      ],
      "text/markdown": [
       "1. '04/12/2016'\n",
       "2. '04/13/2016'\n",
       "3. '04/15/2016'\n",
       "4. '04/16/2016'\n",
       "5. '04/17/2016'\n",
       "6. '04/19/2016'\n",
       "\n",
       "\n"
      ],
      "text/plain": [
       "[1] \"04/12/2016\" \"04/13/2016\" \"04/15/2016\" \"04/16/2016\" \"04/17/2016\"\n",
       "[6] \"04/19/2016\""
      ]
     },
     "metadata": {},
     "output_type": "display_data"
    }
   ],
   "source": [
    "# Merging datasets\n",
    "daily_activitySleep <- merge(daily_activity, daily_sleep, by=c(\"Id\", \"date\"))\n",
    "head(daily_activitySleep$Id)\n",
    "head(daily_activitySleep$date)"
   ]
  },
  {
   "cell_type": "markdown",
   "id": "d53a3a92",
   "metadata": {
    "papermill": {
     "duration": 0.006306,
     "end_time": "2022-11-22T13:35:33.908808",
     "exception": false,
     "start_time": "2022-11-22T13:35:33.902502",
     "status": "completed"
    },
    "tags": []
   },
   "source": [
    "A new dataset includes four activity types in one column."
   ]
  },
  {
   "cell_type": "code",
   "execution_count": 8,
   "id": "8833b7cd",
   "metadata": {
    "execution": {
     "iopub.execute_input": "2022-11-22T13:35:33.924310Z",
     "iopub.status.busy": "2022-11-22T13:35:33.923095Z",
     "iopub.status.idle": "2022-11-22T13:35:33.944252Z",
     "shell.execute_reply": "2022-11-22T13:35:33.942741Z"
    },
    "papermill": {
     "duration": 0.031069,
     "end_time": "2022-11-22T13:35:33.946186",
     "exception": false,
     "start_time": "2022-11-22T13:35:33.915117",
     "status": "completed"
    },
    "tags": []
   },
   "outputs": [],
   "source": [
    "# Grouping users in four categories\n",
    "activity_type_data <- daily_activitySleep %>%\n",
    "  summarise(\n",
    "    activity_type = factor(case_when(\n",
    "      SedentaryMinutes > mean(SedentaryMinutes) & LightlyActiveMinutes < mean(LightlyActiveMinutes) & FairlyActiveMinutes < mean(FairlyActiveMinutes) & VeryActiveMinutes < mean(VeryActiveMinutes) ~ \"Sedentary Active\",\n",
    "      SedentaryMinutes < mean(SedentaryMinutes) & LightlyActiveMinutes > mean(LightlyActiveMinutes) & FairlyActiveMinutes < mean(FairlyActiveMinutes) & VeryActiveMinutes < mean(VeryActiveMinutes) ~ \"Lightly Active\",\n",
    "      SedentaryMinutes < mean(SedentaryMinutes) & LightlyActiveMinutes < mean(LightlyActiveMinutes) & FairlyActiveMinutes > mean(FairlyActiveMinutes) & VeryActiveMinutes < mean(VeryActiveMinutes) ~ \"Fairly Active\",\n",
    "      SedentaryMinutes < mean(SedentaryMinutes) & LightlyActiveMinutes < mean(LightlyActiveMinutes) & FairlyActiveMinutes < mean(FairlyActiveMinutes) & VeryActiveMinutes > mean(VeryActiveMinutes) ~ \"Very Active\",\n",
    "    ),levels=c(\"Sedentary Active\", \"Lightly Active\", \"Fairly Active\", \"Very Active\")), TotalMinutesAsleep, group=Id)%>%\n",
    "  drop_na()"
   ]
  },
  {
   "cell_type": "markdown",
   "id": "e75a6d8c",
   "metadata": {
    "papermill": {
     "duration": 0.007036,
     "end_time": "2022-11-22T13:35:33.959527",
     "exception": false,
     "start_time": "2022-11-22T13:35:33.952491",
     "status": "completed"
    },
    "tags": []
   },
   "source": [
    "The date and time columns are separated apart because time will be used as a key variable to group data for histogram in the next section."
   ]
  },
  {
   "cell_type": "code",
   "execution_count": 9,
   "id": "a88c1a3a",
   "metadata": {
    "execution": {
     "iopub.execute_input": "2022-11-22T13:35:33.975306Z",
     "iopub.status.busy": "2022-11-22T13:35:33.973690Z",
     "iopub.status.idle": "2022-11-22T13:35:34.306261Z",
     "shell.execute_reply": "2022-11-22T13:35:34.304828Z"
    },
    "papermill": {
     "duration": 0.342417,
     "end_time": "2022-11-22T13:35:34.307989",
     "exception": false,
     "start_time": "2022-11-22T13:35:33.965572",
     "status": "completed"
    },
    "tags": []
   },
   "outputs": [
    {
     "data": {
      "text/html": [
       "<table class=\"dataframe\">\n",
       "<caption>A data.frame: 6 × 4</caption>\n",
       "<thead>\n",
       "\t<tr><th></th><th scope=col>Id</th><th scope=col>date</th><th scope=col>time</th><th scope=col>StepTotal</th></tr>\n",
       "\t<tr><th></th><th scope=col>&lt;dbl&gt;</th><th scope=col>&lt;chr&gt;</th><th scope=col>&lt;chr&gt;</th><th scope=col>&lt;int&gt;</th></tr>\n",
       "</thead>\n",
       "<tbody>\n",
       "\t<tr><th scope=row>1</th><td>1503960366</td><td>2016-04-12</td><td>00:00:00</td><td>373</td></tr>\n",
       "\t<tr><th scope=row>2</th><td>1503960366</td><td>2016-04-12</td><td>01:00:00</td><td>160</td></tr>\n",
       "\t<tr><th scope=row>3</th><td>1503960366</td><td>2016-04-12</td><td>02:00:00</td><td>151</td></tr>\n",
       "\t<tr><th scope=row>4</th><td>1503960366</td><td>2016-04-12</td><td>03:00:00</td><td>  0</td></tr>\n",
       "\t<tr><th scope=row>5</th><td>1503960366</td><td>2016-04-12</td><td>04:00:00</td><td>  0</td></tr>\n",
       "\t<tr><th scope=row>6</th><td>1503960366</td><td>2016-04-12</td><td>05:00:00</td><td>  0</td></tr>\n",
       "</tbody>\n",
       "</table>\n"
      ],
      "text/latex": [
       "A data.frame: 6 × 4\n",
       "\\begin{tabular}{r|llll}\n",
       "  & Id & date & time & StepTotal\\\\\n",
       "  & <dbl> & <chr> & <chr> & <int>\\\\\n",
       "\\hline\n",
       "\t1 & 1503960366 & 2016-04-12 & 00:00:00 & 373\\\\\n",
       "\t2 & 1503960366 & 2016-04-12 & 01:00:00 & 160\\\\\n",
       "\t3 & 1503960366 & 2016-04-12 & 02:00:00 & 151\\\\\n",
       "\t4 & 1503960366 & 2016-04-12 & 03:00:00 &   0\\\\\n",
       "\t5 & 1503960366 & 2016-04-12 & 04:00:00 &   0\\\\\n",
       "\t6 & 1503960366 & 2016-04-12 & 05:00:00 &   0\\\\\n",
       "\\end{tabular}\n"
      ],
      "text/markdown": [
       "\n",
       "A data.frame: 6 × 4\n",
       "\n",
       "| <!--/--> | Id &lt;dbl&gt; | date &lt;chr&gt; | time &lt;chr&gt; | StepTotal &lt;int&gt; |\n",
       "|---|---|---|---|---|\n",
       "| 1 | 1503960366 | 2016-04-12 | 00:00:00 | 373 |\n",
       "| 2 | 1503960366 | 2016-04-12 | 01:00:00 | 160 |\n",
       "| 3 | 1503960366 | 2016-04-12 | 02:00:00 | 151 |\n",
       "| 4 | 1503960366 | 2016-04-12 | 03:00:00 |   0 |\n",
       "| 5 | 1503960366 | 2016-04-12 | 04:00:00 |   0 |\n",
       "| 6 | 1503960366 | 2016-04-12 | 05:00:00 |   0 |\n",
       "\n"
      ],
      "text/plain": [
       "  Id         date       time     StepTotal\n",
       "1 1503960366 2016-04-12 00:00:00 373      \n",
       "2 1503960366 2016-04-12 01:00:00 160      \n",
       "3 1503960366 2016-04-12 02:00:00 151      \n",
       "4 1503960366 2016-04-12 03:00:00   0      \n",
       "5 1503960366 2016-04-12 04:00:00   0      \n",
       "6 1503960366 2016-04-12 05:00:00   0      "
      ]
     },
     "metadata": {},
     "output_type": "display_data"
    }
   ],
   "source": [
    "# Separating date and time columns\n",
    "hourly_steps <- separate(hourly_steps, date_time, into=c(\"date\", \"time\"), sep= \" \")\n",
    "head(hourly_steps)"
   ]
  },
  {
   "cell_type": "markdown",
   "id": "594c547a",
   "metadata": {
    "papermill": {
     "duration": 0.006511,
     "end_time": "2022-11-22T13:35:34.321351",
     "exception": false,
     "start_time": "2022-11-22T13:35:34.314840",
     "status": "completed"
    },
    "tags": []
   },
   "source": [
    "# **What does the data tell us?**\n",
    "\n",
    "The section presents basic descriptive statistics of the key variables and some important data visualizations.\n",
    "\n",
    "## **Descriptive statistics**\n",
    "\n",
    "Analyzing the descriptive statistics reveals some interesting findings:\n",
    "\n",
    "• The average user walks 7,638 steps per day, while healthcare experts recommend 10,000 daily steps for healthy lifestyle [1,2];\n",
    "\n",
    "• Sedentary activities, on average, constitute 991,2 minutes or 16,5 hours of user's time;\n",
    "\n",
    "• On average, there are much more lightly active users with 192,8 minutes (3,21 hours) compared to fairly active and very active respondents;\n",
    "\n",
    "• User total sleep duration is 419,5 minutes which equals 7 hours and is in line with the healthcare experts recommendations for adults [3].\n"
   ]
  },
  {
   "cell_type": "code",
   "execution_count": 10,
   "id": "90d90057",
   "metadata": {
    "execution": {
     "iopub.execute_input": "2022-11-22T13:35:34.337049Z",
     "iopub.status.busy": "2022-11-22T13:35:34.335791Z",
     "iopub.status.idle": "2022-11-22T13:35:34.381533Z",
     "shell.execute_reply": "2022-11-22T13:35:34.380136Z"
    },
    "papermill": {
     "duration": 0.055597,
     "end_time": "2022-11-22T13:35:34.383353",
     "exception": false,
     "start_time": "2022-11-22T13:35:34.327756",
     "status": "completed"
    },
    "tags": []
   },
   "outputs": [
    {
     "data": {
      "text/plain": [
       "   TotalSteps    VeryActiveMinutes FairlyActiveMinutes LightlyActiveMinutes\n",
       " Min.   :    0   Min.   :  0.00    Min.   :  0.00      Min.   :  0.0       \n",
       " 1st Qu.: 3790   1st Qu.:  0.00    1st Qu.:  0.00      1st Qu.:127.0       \n",
       " Median : 7406   Median :  4.00    Median :  6.00      Median :199.0       \n",
       " Mean   : 7638   Mean   : 21.16    Mean   : 13.56      Mean   :192.8       \n",
       " 3rd Qu.:10727   3rd Qu.: 32.00    3rd Qu.: 19.00      3rd Qu.:264.0       \n",
       " Max.   :36019   Max.   :210.00    Max.   :143.00      Max.   :518.0       \n",
       " SedentaryMinutes\n",
       " Min.   :   0.0  \n",
       " 1st Qu.: 729.8  \n",
       " Median :1057.5  \n",
       " Mean   : 991.2  \n",
       " 3rd Qu.:1229.5  \n",
       " Max.   :1440.0  "
      ]
     },
     "metadata": {},
     "output_type": "display_data"
    },
    {
     "data": {
      "text/plain": [
       "   StepTotal      \n",
       " Min.   :    0.0  \n",
       " 1st Qu.:    0.0  \n",
       " Median :   40.0  \n",
       " Mean   :  320.2  \n",
       " 3rd Qu.:  357.0  \n",
       " Max.   :10554.0  "
      ]
     },
     "metadata": {},
     "output_type": "display_data"
    },
    {
     "data": {
      "text/plain": [
       " TotalMinutesAsleep\n",
       " Min.   : 58.0     \n",
       " 1st Qu.:361.0     \n",
       " Median :433.0     \n",
       " Mean   :419.5     \n",
       " 3rd Qu.:490.0     \n",
       " Max.   :796.0     "
      ]
     },
     "metadata": {},
     "output_type": "display_data"
    }
   ],
   "source": [
    " # Summarizing total daily steps and activity level\n",
    "daily_activity %>%\n",
    "  select(TotalSteps, VeryActiveMinutes, FairlyActiveMinutes, LightlyActiveMinutes, SedentaryMinutes ) %>%\n",
    "  summary()\n",
    "\n",
    "# Summarizing Steps counted per hour\n",
    "hourly_steps %>%\n",
    "  select(StepTotal) %>%\n",
    "  summary()\n",
    "\n",
    "# Summarizing total sleep duration in minutes\n",
    "daily_sleep %>%\n",
    "  select(TotalMinutesAsleep) %>%\n",
    "summary()"
   ]
  },
  {
   "cell_type": "markdown",
   "id": "428faf37",
   "metadata": {
    "papermill": {
     "duration": 0.006926,
     "end_time": "2022-11-22T13:35:34.397174",
     "exception": false,
     "start_time": "2022-11-22T13:35:34.390248",
     "status": "completed"
    },
    "tags": []
   },
   "source": [
    "## **Data visualization**\n",
    "\n",
    "The histogram in Figure 1 shows the average steps made by users per hour in a day. It can be seen that more than 500 average hourly steps are performed from 12 pm to 2 pm as well as from 5 pm to 7 pm. The former time period refers to the lunch break at work, while the latter time period is the end of the working day. This is vital information for Bellabeat marketing strategy."
   ]
  },
  {
   "cell_type": "code",
   "execution_count": 11,
   "id": "af46de36",
   "metadata": {
    "execution": {
     "iopub.execute_input": "2022-11-22T13:35:34.413984Z",
     "iopub.status.busy": "2022-11-22T13:35:34.412550Z",
     "iopub.status.idle": "2022-11-22T13:35:35.036975Z",
     "shell.execute_reply": "2022-11-22T13:35:35.035560Z"
    },
    "papermill": {
     "duration": 0.634675,
     "end_time": "2022-11-22T13:35:35.038738",
     "exception": false,
     "start_time": "2022-11-22T13:35:34.404063",
     "status": "completed"
    },
    "tags": []
   },
   "outputs": [
    {
     "data": {
      "image/png": "[encoded data removed]"
     },
     "metadata": {
      "image/png": {
       "height": 420,
       "width": 420
      }
     },
     "output_type": "display_data"
    }
   ],
   "source": [
    "# Histogram: Average steps per hour in a day \n",
    "hourly_steps %>% \n",
    "  group_by(time) %>% \n",
    "  summarize(average_steps = mean(StepTotal)) %>% \n",
    "  ggplot() + \n",
    "  geom_col(mapping = aes(x=time, y = average_steps, fill = average_steps)) + \n",
    "  labs(title = \"Figure 1: Average steps per hour\", x=\"\", y=\"\") +\n",
    "  scale_fill_gradient(low =\"green3\", high = \"red3\")+\n",
    "  theme(axis.text.x = element_text(angle = 90))"
   ]
  },
  {
   "cell_type": "markdown",
   "id": "81c39718",
   "metadata": {
    "papermill": {
     "duration": 0.007358,
     "end_time": "2022-11-22T13:35:35.053505",
     "exception": false,
     "start_time": "2022-11-22T13:35:35.046147",
     "status": "completed"
    },
    "tags": []
   },
   "source": [
    "In figure 2, the data indicates that users are quite different in terms activity type and sleep duration. For instance, lightly active users are the ones who sleep approximately 500 minutes or 8,33 hours per day, slightly more compared to other categories of activity type users. The small shape of the lightly active user boxplot reveals that there is minimal difference between lightly active user's responses, concerning their daily sleeping minutes."
   ]
  },
  {
   "cell_type": "code",
   "execution_count": 12,
   "id": "0e34dad0",
   "metadata": {
    "execution": {
     "iopub.execute_input": "2022-11-22T13:35:35.071297Z",
     "iopub.status.busy": "2022-11-22T13:35:35.069907Z",
     "iopub.status.idle": "2022-11-22T13:35:35.365627Z",
     "shell.execute_reply": "2022-11-22T13:35:35.364171Z"
    },
    "papermill": {
     "duration": 0.307176,
     "end_time": "2022-11-22T13:35:35.367924",
     "exception": false,
     "start_time": "2022-11-22T13:35:35.060748",
     "status": "completed"
    },
    "tags": []
   },
   "outputs": [
    {
     "data": {
      "image/png": "[encoded data removed]"
     },
     "metadata": {
      "image/png": {
       "height": 420,
       "width": 420
      }
     },
     "output_type": "display_data"
    }
   ],
   "source": [
    "# Boxplot: Activity type and Sleep duration\n",
    "ggplot(activity_type_data, aes(activity_type, TotalMinutesAsleep, fill=activity_type)) + \n",
    "  geom_boxplot() + \n",
    "  labs(title=\"Figure 2: Activity type and Sleep duration\", x=NULL) +\n",
    "  theme(legend.position=\"none\")"
   ]
  },
  {
   "cell_type": "markdown",
   "id": "27a32acf",
   "metadata": {
    "papermill": {
     "duration": 0.007671,
     "end_time": "2022-11-22T13:35:35.383637",
     "exception": false,
     "start_time": "2022-11-22T13:35:35.375966",
     "status": "completed"
    },
    "tags": []
   },
   "source": [
    "There is a negative correlation between Sedentary activities and Sleep duration (see Figure 3). This means that physically inactive users sleep less. However, the research with large sample sizes and advanced methods shows that such relationships are not that clear outlining the importance of future research in the area [4,5]. Therefore, please interpret this finding with caution by taking into account its limitations."
   ]
  },
  {
   "cell_type": "code",
   "execution_count": 13,
   "id": "8f08e3ba",
   "metadata": {
    "execution": {
     "iopub.execute_input": "2022-11-22T13:35:35.402009Z",
     "iopub.status.busy": "2022-11-22T13:35:35.400711Z",
     "iopub.status.idle": "2022-11-22T13:35:36.809428Z",
     "shell.execute_reply": "2022-11-22T13:35:36.807902Z"
    },
    "papermill": {
     "duration": 1.420632,
     "end_time": "2022-11-22T13:35:36.811823",
     "exception": false,
     "start_time": "2022-11-22T13:35:35.391191",
     "status": "completed"
    },
    "tags": []
   },
   "outputs": [
    {
     "name": "stderr",
     "output_type": "stream",
     "text": [
      "`geom_smooth()` using method = 'loess' and formula 'y ~ x'\n",
      "\n"
     ]
    },
    {
     "data": {
      "image/png": "[encoded data removed]"
     },
     "metadata": {
      "image/png": {
       "height": 420,
       "width": 420
      }
     },
     "output_type": "display_data"
    }
   ],
   "source": [
    " # Scatterplot: Sedentary activities and Sleep duration\n",
    "ggplot(data=daily_activitySleep, aes(x=SedentaryMinutes, y=TotalMinutesAsleep)) + \n",
    "  geom_point() + \n",
    "  geom_smooth() + \n",
    "  labs(title=\"Figure 3: Sedentary activities and Sleep duration\")"
   ]
  },
  {
   "cell_type": "markdown",
   "id": "7c3c9deb",
   "metadata": {
    "papermill": {
     "duration": 0.009728,
     "end_time": "2022-11-22T13:35:36.831243",
     "exception": false,
     "start_time": "2022-11-22T13:35:36.821515",
     "status": "completed"
    },
    "tags": []
   },
   "source": [
    "# **Conclusions and recommendations**\n",
    "\n",
    "Based on the data analysis, there are some important recommendations for Bellabeat company.\n",
    "\n",
    "**High sedentary activities of users**. It should be mentioned that 991,2 minutes or 16,5 hours of respondent's time, on average, is spend on sedentary activities such as working, sitting in front of computer, and using smartphones. If Bellabeat plans further profitable growth they should find ways to make the respondents devote some time to healthy lifestyle which will cause more frequent engagement in Bellabeat app. One possible solution seems to send notifications for women to make at least five minutes exercises but 5 days per week in order to achieve cumulative effect.\n",
    "\n",
    "**Somewhat active users**. On average, users walk 7,638 steps per day which is considered as somewhat active level and is slightly below the 10,000 daily steps recommended by healthcare experts for healthy lifestyle [1,2]. The management of Bellabeat can use this information to encourage women setting such goals with the possibility to interact and share their achievements with other Bellabeat app users. It is also vital to think about bonuses and prizes for high performers.\n",
    "\n",
    "**Hourly steps time period**. Users, on average, prefer to make hourly steps during the lunch time period 12 pm-2 pm as well as at 5 pm–7 pm when their standard working hours end. Sending daily notifications for exercise seems vital in both time intervals. In addition, motivation letters and key statistics of user performance will be helpful as indicators of the importance performing daily exercises.\n",
    "\n",
    "**Activity type users are heterogeneous in sleep duration**. The findings indicate that users defined by activity type are quite different in terms of their daily sleep duration. This information can be used by Bellabeat management team to target users who wish to set up a balanced activity type and sleep duration habits. Probably a personalized program can be developed.\n",
    "\n",
    "**Sedentary activities may reduce sleep duration**. The analyzed data shows sedentary activities are negatively correlated with users sleep duration measured as total minutes asleep. This preliminary finding can be used to direct the Bellabeat marketing strategy for women who plan to start healthy lifestyle but need some motivation and additional information to pursue this path. The result should be interpreted with caution due to sample and method limitations. Future research in this area is highly recommended by using large-scale time-series dataset which can be collected by Bellabeat in close collaboration with specialized healthcare research institutes.\n",
    "\n",
    "# **List of References**\n",
    "\n",
    "1.https://www.10000steps.org.au/articles/healthy-lifestyles/counting-steps/ [accessed date: 16.11.2022].\n",
    "\n",
    "2.https://www.medicalnewstoday.com/articles/how-many-steps-should-you-take-a-day#for-general-health [accessed date: 16.11.2022].\n",
    "\n",
    "3.https://www.cdc.gov/sleep/about_sleep/how_much_sleep.html [accessed date: 16.11.2022].\n",
    "\n",
    "4.Lakerveld J., Mackenbach J.D., Horvath E., Rutters F., Compernolle S., Bárdos H., Bourdeaudhuij I.D., Charreire H., Rutter H., Oppert J-M., McKee M., Brug J. (2016). The relation between sleep duration and sedentary behaviours in European adults. *Obesity Reviews*, **17**(Suppl., 1): 62-67.\n",
    "\n",
    "5.Creasy S.A., Crane T.E., Garcia D.O., Thomson C.A., Kohler L.N., Wertheim B.C., Baker L.D., Coday M., Hale L., Womack C.R., Wright Jr. K.P., Melanson E.L. (2019). Higher amounts of sedentary time are associated with short sleep duration and poor sleep quality in postmenopausal women. *Sleep*, **42**(7): 1-9."
   ]
  }
 ],
 "metadata": {
  "kernelspec": {
   "display_name": "Python 3 (ipykernel)",
   "language": "python",
   "name": "python3"
  },
  "language_info": {
   "codemirror_mode": {
    "name": "ipython",
    "version": 3
   },
   "file_extension": ".py",
   "mimetype": "text/x-python",
   "name": "python",
   "nbconvert_exporter": "python",
   "pygments_lexer": "ipython3",
   "version": "3.9.13"
  },
  "papermill": {
   "default_parameters": {},
   "duration": 8.94438,
   "end_time": "2022-11-22T13:35:36.959444",
   "environment_variables": {},
   "exception": null,
   "input_path": "__notebook__.ipynb",
   "output_path": "__notebook__.ipynb",
   "parameters": {},
   "start_time": "2022-11-22T13:35:28.015064",
   "version": "2.4.0"
  }
 },
 "nbformat": 4,
 "nbformat_minor": 5
}
